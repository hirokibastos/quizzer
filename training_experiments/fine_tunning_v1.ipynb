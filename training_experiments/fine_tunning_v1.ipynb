{
  "cells": [
    {
      "cell_type": "code",
      "execution_count": null,
      "metadata": {
        "id": "_yC7FvzWVojI"
      },
      "outputs": [],
      "source": [
        "%pip install transformers==4.28.0 #Installing latest version is running into dependency problems\n",
        "%pip install datasets\n",
        "%pip install sentencepiece\n",
        "%pip install rouge_score\n",
        "%pip install nbformat\n",
        "%pip install plotly\n",
        "%pip install torch"
      ]
    },
    {
      "cell_type": "code",
      "execution_count": 1,
      "metadata": {
        "id": "uB2SGytfVojJ"
      },
      "outputs": [],
      "source": [
        "# funcao para fazer um print para mostra o texto em diferentes linhas\n",
        "import textwrap\n",
        "def print_lines(texto,w=50):\n",
        "    lineas = textwrap.wrap(texto, width=w)\n",
        "    for linea in lineas:\n",
        "        print(linea)"
      ]
    },
    {
      "cell_type": "code",
      "execution_count": 2,
      "metadata": {
        "colab": {
          "base_uri": "https://localhost:8080/",
          "height": 240,
          "referenced_widgets": [
            "2dfd2c9ff84d49c6807dfd921c56ea6d",
            "bb63dcad03d64dd68d74e22cb86a670e",
            "416ef88b64944671958f002f37a3942e",
            "0d2b3732621540fc829b5d05eddc93c5",
            "8abb50ed42ed479f9feebea54f53cbaf",
            "35c87d80c0784ecc8b852245c60ab21d",
            "c5aa23e37e134b4e821d20613f95fd46",
            "4763737ef07d4807b46182f5108ad1be",
            "cd9d792f21054342af8cbfe551904c99",
            "5e3d49dac7dd4e7fb704fe594e8f5a74",
            "e5c434a8775548cdb6f355caff191513"
          ]
        },
        "id": "OFqxlK8JVojK",
        "outputId": "597cd563-6ce3-41dc-d42f-39f6f2e8e6b0"
      },
      "outputs": [
        {
          "output_type": "stream",
          "name": "stderr",
          "text": [
            "WARNING:datasets.builder:Found cached dataset exams (/root/.cache/huggingface/datasets/exams/crosslingual_with_para_pt/1.0.0/4330a7899d757352941782397b09a4603093ef04e23873967042f5cee03cadd8)\n"
          ]
        },
        {
          "output_type": "display_data",
          "data": {
            "text/plain": [
              "  0%|          | 0/2 [00:00<?, ?it/s]"
            ],
            "application/vnd.jupyter.widget-view+json": {
              "version_major": 2,
              "version_minor": 0,
              "model_id": "2dfd2c9ff84d49c6807dfd921c56ea6d"
            }
          },
          "metadata": {}
        },
        {
          "output_type": "execute_result",
          "data": {
            "text/plain": [
              "DatasetDict({\n",
              "    train: Dataset({\n",
              "        features: ['id', 'question', 'answerKey', 'info'],\n",
              "        num_rows: 740\n",
              "    })\n",
              "    validation: Dataset({\n",
              "        features: ['id', 'question', 'answerKey', 'info'],\n",
              "        num_rows: 184\n",
              "    })\n",
              "})"
            ]
          },
          "metadata": {},
          "execution_count": 2
        }
      ],
      "source": [
        "from datasets import load_dataset,load_metric\n",
        "# Load dataset from huggingface\n",
        "dataset = load_dataset(\"exams\", \"crosslingual_with_para_pt\")\n",
        "dataset"
      ]
    },
    {
      "cell_type": "code",
      "execution_count": 3,
      "metadata": {
        "id": "LIKDGRigVojM"
      },
      "outputs": [],
      "source": [
        "# Manipulate data set to build inputs\n",
        "questions = [x['stem'] for x in dataset['train']['question']]\n",
        "subjects = [x['subject'] for x in dataset['train']['info']]\n",
        "choices = [x['choices'] for x in dataset['train']['question']]\n",
        "correto = list()\n",
        "for answerKey in dataset['train']['answerKey']:\n",
        "    correto.append('Sim' if answerKey=='A' else 'Não')\n",
        "    correto.append('Sim' if answerKey=='B' else 'Não')\n",
        "    correto.append('Sim' if answerKey=='C' else 'Não')\n",
        "    correto.append('Sim' if answerKey=='D' else 'Não')\n",
        "subjects = [x['subject'] for x in dataset['train']['info']]\n",
        "inputs = [\"Tópico: {} Questão: {} Correto: {}\".format(subjects[i//4], questions[i//4], correto[i]) for i in range(4*len(questions))]"
      ]
    },
    {
      "cell_type": "code",
      "execution_count": 4,
      "metadata": {
        "id": "R5gVvUt_VojM"
      },
      "outputs": [],
      "source": [
        "# Manipulate dataset to build expected outputs\n",
        "choices = [x['choices'] for x in dataset['train']['question']]\n",
        "outputs = list()\n",
        "for choice in choices:\n",
        "    for i in range(4):\n",
        "        outputs.append(choice['text'][i])"
      ]
    },
    {
      "cell_type": "code",
      "execution_count": 5,
      "metadata": {
        "id": "x86trc_JVojM"
      },
      "outputs": [],
      "source": [
        "prefix = \"question: \"\n",
        "max_input_length = 512\n",
        "max_target_length = 32"
      ]
    },
    {
      "cell_type": "code",
      "execution_count": 6,
      "metadata": {
        "id": "roJvHdXuVojO"
      },
      "outputs": [],
      "source": [
        "def preprocess_examples(examples):\n",
        "    \"\"\"\n",
        "    example: batch conjunto de exemplos\n",
        "    Essa funcão é uma das mais importante já que formata nosso texto de entrada tokenizando o texto\n",
        "    para esse finetunning usamos o dataset de um jeito diferente onde a entrada para o modelo sera uma string com tópico e questão\n",
        "    e nossa saida esperada(outputs) serão alternativas.\n",
        "    \"\"\"\n",
        "    questions = [x['stem'] for x in dataset['train']['question']]\n",
        "    subjects = [x['subject'] for x in dataset['train']['info']]\n",
        "    choices = [x['choices'] for x in dataset['train']['question']]\n",
        "    correto = list()\n",
        "    for answerKey in dataset['train']['answerKey']:\n",
        "        correto.append('Sim' if answerKey=='A' else 'Não')\n",
        "        correto.append('Sim' if answerKey=='B' else 'Não')\n",
        "        correto.append('Sim' if answerKey=='C' else 'Não')\n",
        "        correto.append('Sim' if answerKey=='D' else 'Não')\n",
        "    subjects = [x['subject'] for x in dataset['train']['info']]\n",
        "    inputs = [\"Tópico: {} Questão: {} Correto: {}\".format(subjects[i//4], questions[i//4], correto[i]) for i in range(4*len(questions))]\n",
        "    outputs = list()\n",
        "    for choice in choices:\n",
        "        for i in range(4):\n",
        "            outputs.append(choice['text'][i])\n",
        "    # inputs e outputs sao texto agora eles vai ser tokenizados lembrar que model_inputs tem diferentes campos ver tutorial 1\n",
        "    model_inputs = tokenizer(inputs, max_length=max_input_length, padding=\"max_length\", truncation=True)\n",
        "    # o label ficara só com os tokens_id\n",
        "    labels = tokenizer(outputs, max_length=max_target_length, padding=\"max_length\", truncation=True).input_ids\n",
        "    labels_with_ignore_index = []\n",
        "    for labels_example in labels:\n",
        "        # devido ao processo de padding é importante não considerar esses ids\n",
        "        labels_example = [label if label != 0 else -100 for label in labels_example]\n",
        "        labels_with_ignore_index.append(labels_example)\n",
        "    model_inputs[\"labels\"] = labels_with_ignore_index\n",
        "    return model_inputs"
      ]
    },
    {
      "cell_type": "code",
      "execution_count": 7,
      "metadata": {
        "id": "3Yf5LTeoVojP"
      },
      "outputs": [],
      "source": [
        "from torch.utils.data import DataLoader\n",
        "def create_dataloaders(train_batch_size=8, eval_batch_size=32):\n",
        "    train_dataloader = DataLoader(encoded_train_ds, shuffle=True, batch_size=train_batch_size)\n",
        "    val_dataloader = DataLoader(encoded_val_ds, shuffle=False, batch_size=eval_batch_size)\n",
        "\n",
        "    return train_dataloader, val_dataloader"
      ]
    },
    {
      "cell_type": "code",
      "execution_count": 8,
      "metadata": {
        "id": "Iu_uBHBZVojP"
      },
      "outputs": [],
      "source": [
        "from transformers import T5Tokenizer\n",
        "# modelo base para o finetunning\n",
        "checkpoint = 'unicamp-dl/ptt5-base-portuguese-vocab'\n",
        "# inicializa o tokenizer\n",
        "tokenizer = T5Tokenizer.from_pretrained(checkpoint,model_max_length=max_input_length)"
      ]
    },
    {
      "cell_type": "code",
      "execution_count": 9,
      "metadata": {
        "id": "VqLaR6M2VojQ"
      },
      "outputs": [],
      "source": [
        "# separa o dataset\n",
        "train,val = dataset['train'],dataset['validation']"
      ]
    },
    {
      "cell_type": "code",
      "execution_count": 10,
      "metadata": {
        "colab": {
          "base_uri": "https://localhost:8080/"
        },
        "id": "tuTeM1SAVojR",
        "outputId": "b41a647d-dff4-408f-c37f-54878dc3756f"
      },
      "outputs": [
        {
          "output_type": "stream",
          "name": "stderr",
          "text": [
            "WARNING:datasets.arrow_dataset:Loading cached processed dataset at /root/.cache/huggingface/datasets/exams/crosslingual_with_para_pt/1.0.0/4330a7899d757352941782397b09a4603093ef04e23873967042f5cee03cadd8/cache-4f3b88811be1bb47.arrow\n",
            "WARNING:datasets.arrow_dataset:Loading cached processed dataset at /root/.cache/huggingface/datasets/exams/crosslingual_with_para_pt/1.0.0/4330a7899d757352941782397b09a4603093ef04e23873967042f5cee03cadd8/cache-22275a9e4415f702.arrow\n"
          ]
        }
      ],
      "source": [
        "encoded_train_ds = train.map(preprocess_examples, batched=True, remove_columns=train.column_names)\n",
        "encoded_val_ds = val.map(preprocess_examples, batched=True, remove_columns=val.column_names)"
      ]
    },
    {
      "cell_type": "code",
      "execution_count": 11,
      "metadata": {
        "id": "zWX6ZrO5VojR"
      },
      "outputs": [],
      "source": [
        "encoded_train_ds.set_format(type=\"torch\")\n",
        "encoded_val_ds.set_format(type=\"torch\")"
      ]
    },
    {
      "cell_type": "code",
      "execution_count": 12,
      "metadata": {
        "id": "Hdfq8cl4VojR"
      },
      "outputs": [],
      "source": [
        "from transformers import EarlyStoppingCallback\n",
        "from transformers import T5Model, T5ForConditionalGeneration\n",
        "\n",
        "# PyTorch\n",
        "model_pt = T5ForConditionalGeneration.from_pretrained(checkpoint)\n",
        "# early stopping e uma tecnica onde o finetuning para quando ele nao melhorar depois de 3 vezes consecutivas\n",
        "early = EarlyStoppingCallback(early_stopping_patience=3)"
      ]
    },
    {
      "cell_type": "code",
      "execution_count": 13,
      "metadata": {
        "colab": {
          "base_uri": "https://localhost:8080/"
        },
        "id": "LP99c__pVojS",
        "outputId": "31b83fc2-f4eb-417e-867d-9fe4354b20b8"
      },
      "outputs": [
        {
          "output_type": "stream",
          "name": "stderr",
          "text": [
            "[nltk_data] Downloading package punkt to /root/nltk_data...\n",
            "[nltk_data]   Package punkt is already up-to-date!\n",
            "<ipython-input-13-d6866b6a5e99>:4: FutureWarning: load_metric is deprecated and will be removed in the next major version of datasets. Use 'evaluate.load' instead, from the new library 🤗 Evaluate: https://huggingface.co/docs/evaluate\n",
            "  metric = load_metric(\"rouge\")\n"
          ]
        }
      ],
      "source": [
        "import nltk\n",
        "# essa biblioteca e importante para a funcao compute metrics\n",
        "nltk.download('punkt')\n",
        "metric = load_metric(\"rouge\")"
      ]
    },
    {
      "cell_type": "code",
      "execution_count": 14,
      "metadata": {
        "id": "wjfTrcQrVojS"
      },
      "outputs": [],
      "source": [
        "import nltk\n",
        "import numpy as np\n",
        "\n",
        "def compute_metrics(eval_pred):\n",
        "    # tem a predicoes e os labels(o que é esperado)\n",
        "    predictions, labels = eval_pred\n",
        "    decoded_preds = tokenizer.batch_decode(predictions, skip_special_tokens=True)\n",
        "    # Replace -100 in the labels as we can't decode them.\n",
        "    labels = np.where(labels != -100, labels, tokenizer.pad_token_id)\n",
        "    decoded_labels = tokenizer.batch_decode(labels, skip_special_tokens=True)\n",
        "    # Rouge expects a newline after each sentence\n",
        "    decoded_preds = [\"\\n\".join(nltk.sent_tokenize(pred.strip())) for pred in decoded_preds]\n",
        "    decoded_labels = [\"\\n\".join(nltk.sent_tokenize(label.strip())) for label in decoded_labels]\n",
        "\n",
        "    result = metric.compute(predictions=decoded_preds, references=decoded_labels, use_stemmer=True)\n",
        "    # calculo das metricas\n",
        "    # Extract a few results\n",
        "    result = {key: value.mid.fmeasure * 100 for key, value in result.items()}\n",
        "\n",
        "    # Add mean generated length\n",
        "    prediction_lens = [np.count_nonzero(pred != tokenizer.pad_token_id) for pred in predictions]\n",
        "    result[\"gen_len\"] = np.mean(prediction_lens)\n",
        "\n",
        "    return {k: round(v, 4) for k, v in result.items()}"
      ]
    },
    {
      "cell_type": "code",
      "execution_count": 15,
      "metadata": {
        "id": "JQcyb91jVojS"
      },
      "outputs": [],
      "source": [
        "from transformers import DataCollatorForSeq2Seq\n",
        "\n",
        "data_collator = DataCollatorForSeq2Seq(tokenizer, model=model_pt)"
      ]
    },
    {
      "cell_type": "code",
      "execution_count": 16,
      "metadata": {
        "id": "jp9Iso3aVojT"
      },
      "outputs": [],
      "source": [
        "from transformers import Seq2SeqTrainingArguments\n",
        "\n",
        "batch_size = 8\n",
        "num_train_epochs = 20\n",
        "# Show the training loss with every epoch\n",
        "logging_steps = len(encoded_train_ds) // batch_size\n",
        "# formatacao do modelo mudar se precisar para um padrao\n",
        "model_name = \"question2answer\"\n",
        "args = Seq2SeqTrainingArguments(\n",
        "    output_dir=f\"{model_name}\",\n",
        "    evaluation_strategy=\"epoch\",\n",
        "    learning_rate=5.6e-5,\n",
        "    per_device_train_batch_size=batch_size,\n",
        "    per_device_eval_batch_size=batch_size,\n",
        "    weight_decay=0.01,\n",
        "    # armazena só um modelo no colab é imporante não usar muita memoria\n",
        "    save_total_limit=1,\n",
        "    num_train_epochs=num_train_epochs,\n",
        "    predict_with_generate=True,\n",
        "    logging_steps=logging_steps,\n",
        "    # garante que o modelo armazene o melhor modelo\n",
        "    load_best_model_at_end=True,\n",
        "    save_strategy=\"epoch\",\n",
        "    fp16=True\n",
        ")"
      ]
    },
    {
      "cell_type": "code",
      "execution_count": 17,
      "metadata": {
        "id": "zSFXiSJFVojT"
      },
      "outputs": [],
      "source": [
        "from transformers import Seq2SeqTrainer\n",
        "# Criamos o Objeto trainer que vai receber os argumentos anterios juntos com as entradas numericas\n",
        "trainer = Seq2SeqTrainer(\n",
        "    model_pt,\n",
        "    args,\n",
        "    train_dataset=encoded_train_ds,\n",
        "    eval_dataset=encoded_val_ds,\n",
        "    data_collator=data_collator,\n",
        "    tokenizer=tokenizer,\n",
        "    compute_metrics=compute_metrics,\n",
        "    callbacks=[early]\n",
        ")"
      ]
    },
    {
      "cell_type": "code",
      "execution_count": 18,
      "metadata": {
        "colab": {
          "base_uri": "https://localhost:8080/",
          "height": 792
        },
        "id": "6h5BnpFOVojU",
        "outputId": "e6c0d0e1-8d78-40f3-e542-2430314895a5"
      },
      "outputs": [
        {
          "output_type": "stream",
          "name": "stderr",
          "text": [
            "/usr/local/lib/python3.10/dist-packages/transformers/optimization.py:391: FutureWarning: This implementation of AdamW is deprecated and will be removed in a future version. Use the PyTorch implementation torch.optim.AdamW instead, or set `no_deprecation_warning=True` to disable this warning\n",
            "  warnings.warn(\n"
          ]
        },
        {
          "output_type": "display_data",
          "data": {
            "text/plain": [
              "<IPython.core.display.HTML object>"
            ],
            "text/html": [
              "\n",
              "    <div>\n",
              "      \n",
              "      <progress value='7400' max='7400' style='width:300px; height:20px; vertical-align: middle;'></progress>\n",
              "      [7400/7400 3:00:13, Epoch 20/20]\n",
              "    </div>\n",
              "    <table border=\"1\" class=\"dataframe\">\n",
              "  <thead>\n",
              " <tr style=\"text-align: left;\">\n",
              "      <th>Epoch</th>\n",
              "      <th>Training Loss</th>\n",
              "      <th>Validation Loss</th>\n",
              "      <th>Rouge1</th>\n",
              "      <th>Rouge2</th>\n",
              "      <th>Rougel</th>\n",
              "      <th>Rougelsum</th>\n",
              "      <th>Gen Len</th>\n",
              "    </tr>\n",
              "  </thead>\n",
              "  <tbody>\n",
              "    <tr>\n",
              "      <td>1</td>\n",
              "      <td>4.399800</td>\n",
              "      <td>3.249607</td>\n",
              "      <td>14.950600</td>\n",
              "      <td>2.520000</td>\n",
              "      <td>13.780200</td>\n",
              "      <td>13.787200</td>\n",
              "      <td>9.304100</td>\n",
              "    </tr>\n",
              "    <tr>\n",
              "      <td>2</td>\n",
              "      <td>3.387300</td>\n",
              "      <td>2.745557</td>\n",
              "      <td>18.237400</td>\n",
              "      <td>4.408900</td>\n",
              "      <td>17.064400</td>\n",
              "      <td>17.081600</td>\n",
              "      <td>9.524300</td>\n",
              "    </tr>\n",
              "    <tr>\n",
              "      <td>3</td>\n",
              "      <td>3.027000</td>\n",
              "      <td>2.406184</td>\n",
              "      <td>20.671700</td>\n",
              "      <td>6.129200</td>\n",
              "      <td>19.332300</td>\n",
              "      <td>19.358700</td>\n",
              "      <td>9.845900</td>\n",
              "    </tr>\n",
              "    <tr>\n",
              "      <td>4</td>\n",
              "      <td>2.767100</td>\n",
              "      <td>2.138383</td>\n",
              "      <td>22.829400</td>\n",
              "      <td>7.822900</td>\n",
              "      <td>21.548000</td>\n",
              "      <td>21.558200</td>\n",
              "      <td>9.491900</td>\n",
              "    </tr>\n",
              "    <tr>\n",
              "      <td>5</td>\n",
              "      <td>2.543000</td>\n",
              "      <td>1.916799</td>\n",
              "      <td>24.619200</td>\n",
              "      <td>9.610300</td>\n",
              "      <td>23.298100</td>\n",
              "      <td>23.278600</td>\n",
              "      <td>9.996300</td>\n",
              "    </tr>\n",
              "    <tr>\n",
              "      <td>6</td>\n",
              "      <td>2.376900</td>\n",
              "      <td>1.738224</td>\n",
              "      <td>28.096800</td>\n",
              "      <td>12.259700</td>\n",
              "      <td>26.658600</td>\n",
              "      <td>26.658700</td>\n",
              "      <td>9.928700</td>\n",
              "    </tr>\n",
              "    <tr>\n",
              "      <td>7</td>\n",
              "      <td>2.228100</td>\n",
              "      <td>1.592981</td>\n",
              "      <td>30.722200</td>\n",
              "      <td>14.855100</td>\n",
              "      <td>29.158600</td>\n",
              "      <td>29.157900</td>\n",
              "      <td>9.991200</td>\n",
              "    </tr>\n",
              "    <tr>\n",
              "      <td>8</td>\n",
              "      <td>2.091500</td>\n",
              "      <td>1.465600</td>\n",
              "      <td>33.527800</td>\n",
              "      <td>17.362700</td>\n",
              "      <td>31.910500</td>\n",
              "      <td>31.886800</td>\n",
              "      <td>10.049700</td>\n",
              "    </tr>\n",
              "    <tr>\n",
              "      <td>9</td>\n",
              "      <td>1.993100</td>\n",
              "      <td>1.358796</td>\n",
              "      <td>35.331000</td>\n",
              "      <td>19.395900</td>\n",
              "      <td>33.676000</td>\n",
              "      <td>33.671700</td>\n",
              "      <td>10.290900</td>\n",
              "    </tr>\n",
              "    <tr>\n",
              "      <td>10</td>\n",
              "      <td>1.908100</td>\n",
              "      <td>1.277647</td>\n",
              "      <td>36.447700</td>\n",
              "      <td>20.451800</td>\n",
              "      <td>34.786100</td>\n",
              "      <td>34.787500</td>\n",
              "      <td>10.407800</td>\n",
              "    </tr>\n",
              "    <tr>\n",
              "      <td>11</td>\n",
              "      <td>1.822500</td>\n",
              "      <td>1.201438</td>\n",
              "      <td>37.752600</td>\n",
              "      <td>21.956200</td>\n",
              "      <td>36.196700</td>\n",
              "      <td>36.217300</td>\n",
              "      <td>10.415900</td>\n",
              "    </tr>\n",
              "    <tr>\n",
              "      <td>12</td>\n",
              "      <td>1.763600</td>\n",
              "      <td>1.141877</td>\n",
              "      <td>39.105700</td>\n",
              "      <td>23.347200</td>\n",
              "      <td>37.504700</td>\n",
              "      <td>37.530500</td>\n",
              "      <td>10.498300</td>\n",
              "    </tr>\n",
              "    <tr>\n",
              "      <td>13</td>\n",
              "      <td>1.696900</td>\n",
              "      <td>1.092127</td>\n",
              "      <td>40.267300</td>\n",
              "      <td>24.302900</td>\n",
              "      <td>38.553800</td>\n",
              "      <td>38.549800</td>\n",
              "      <td>10.621600</td>\n",
              "    </tr>\n",
              "    <tr>\n",
              "      <td>14</td>\n",
              "      <td>1.639600</td>\n",
              "      <td>1.047924</td>\n",
              "      <td>40.648100</td>\n",
              "      <td>24.814300</td>\n",
              "      <td>39.012700</td>\n",
              "      <td>39.042900</td>\n",
              "      <td>10.513900</td>\n",
              "    </tr>\n",
              "    <tr>\n",
              "      <td>15</td>\n",
              "      <td>1.608400</td>\n",
              "      <td>1.014352</td>\n",
              "      <td>41.345800</td>\n",
              "      <td>25.486800</td>\n",
              "      <td>39.623700</td>\n",
              "      <td>39.671500</td>\n",
              "      <td>10.758100</td>\n",
              "    </tr>\n",
              "    <tr>\n",
              "      <td>16</td>\n",
              "      <td>1.573800</td>\n",
              "      <td>0.986586</td>\n",
              "      <td>41.716600</td>\n",
              "      <td>26.067400</td>\n",
              "      <td>39.979800</td>\n",
              "      <td>40.014900</td>\n",
              "      <td>10.780100</td>\n",
              "    </tr>\n",
              "    <tr>\n",
              "      <td>17</td>\n",
              "      <td>1.548800</td>\n",
              "      <td>0.965571</td>\n",
              "      <td>42.217400</td>\n",
              "      <td>26.357500</td>\n",
              "      <td>40.429200</td>\n",
              "      <td>40.463100</td>\n",
              "      <td>10.733400</td>\n",
              "    </tr>\n",
              "    <tr>\n",
              "      <td>18</td>\n",
              "      <td>1.519600</td>\n",
              "      <td>0.948722</td>\n",
              "      <td>42.549800</td>\n",
              "      <td>26.653100</td>\n",
              "      <td>40.715300</td>\n",
              "      <td>40.747500</td>\n",
              "      <td>10.734100</td>\n",
              "    </tr>\n",
              "    <tr>\n",
              "      <td>19</td>\n",
              "      <td>1.502200</td>\n",
              "      <td>0.938524</td>\n",
              "      <td>42.853800</td>\n",
              "      <td>26.862400</td>\n",
              "      <td>41.024300</td>\n",
              "      <td>41.069400</td>\n",
              "      <td>10.787200</td>\n",
              "    </tr>\n",
              "    <tr>\n",
              "      <td>20</td>\n",
              "      <td>1.506900</td>\n",
              "      <td>0.935461</td>\n",
              "      <td>43.276400</td>\n",
              "      <td>27.196000</td>\n",
              "      <td>41.446500</td>\n",
              "      <td>41.451200</td>\n",
              "      <td>10.750000</td>\n",
              "    </tr>\n",
              "  </tbody>\n",
              "</table><p>"
            ]
          },
          "metadata": {}
        },
        {
          "output_type": "execute_result",
          "data": {
            "text/plain": [
              "TrainOutput(global_step=7400, training_loss=2.145211948704075, metrics={'train_runtime': 10817.2282, 'train_samples_per_second': 5.473, 'train_steps_per_second': 0.684, 'total_flos': 3.6050307121152e+16, 'train_loss': 2.145211948704075, 'epoch': 20.0})"
            ]
          },
          "metadata": {},
          "execution_count": 18
        }
      ],
      "source": [
        "trainer.train()"
      ]
    },
    {
      "cell_type": "code",
      "source": [
        "model_pt.to(\"cpu\")\n",
        "model_pt.save_pretrained(\"temporal\"+\"_best/\")"
      ],
      "metadata": {
        "id": "vpSOJrYHEu02"
      },
      "execution_count": 19,
      "outputs": []
    },
    {
      "cell_type": "code",
      "source": [
        "val"
      ],
      "metadata": {
        "id": "4GV70ijtFeto",
        "colab": {
          "base_uri": "https://localhost:8080/"
        },
        "outputId": "c3cd3682-24ba-4e03-a0d2-2fe39a48f3ed"
      },
      "execution_count": 20,
      "outputs": [
        {
          "output_type": "execute_result",
          "data": {
            "text/plain": [
              "Dataset({\n",
              "    features: ['id', 'question', 'answerKey', 'info'],\n",
              "    num_rows: 184\n",
              "})"
            ]
          },
          "metadata": {},
          "execution_count": 20
        }
      ]
    },
    {
      "cell_type": "code",
      "source": [
        "val['question'][100]['choices']['para'][0]"
      ],
      "metadata": {
        "id": "8nnpb6iAFVX2",
        "colab": {
          "base_uri": "https://localhost:8080/",
          "height": 105
        },
        "outputId": "f2e6fb9f-3361-4c47-cd44-2ee6992c3d57"
      },
      "execution_count": 21,
      "outputs": [
        {
          "output_type": "execute_result",
          "data": {
            "text/plain": [
              "'Banco Europeu de Investimento\\n\\nO Banco Europeu de Investimento (BEI), é instrumento financeiro da União Europeia. O Banco Mundial e o Banco Europeu de Investimento, por exemplo, só participam do financiamento de projetos no setor do carvão em casos excepcionais. Foi Vice-Presidente do Banco Europeu de Investimento entre 2007 e 2010. Desempenha ainda funções de administrador não executivo na Nutrinveste e no Banco Finantia, e de membro do Comité de Investimento da PVCI (Portugal Venture Capital Iniciative), um fundo de fundos de investimento ligado ao Banco Europeu de Investimento. A cidade do Luxemburgo contém várias instituições da União Europeia, incluindo o Tribunal de Justiça Europeu, o Tribunal de Contas e o Banco Europeu de Investimento. A cidade do Luxemburgo contém várias instituições da União Europeia, incluindo o Tribunal de Justiça Europeu, o Tribunal de Contas e o Banco Europeu de Investimento. A cidade do Luxemburgo contém várias instituições da União Europeia, incluindo o Tribunal de Justiça Europeu, o Tribunal de Contas e o Banco Europeu de Investimento. A cidade do Luxemburgo contém várias instituições da União Europeia, incluindo o Tribunal de Justiça Europeu, o Tribunal de Contas e o Banco Europeu de Investimento. A cidade do Luxemburgo contém várias instituições da União Europeia, incluindo o Tribunal de Justiça Europeu, o Tribunal de Contas e o Banco Europeu de Investimento. Saracuruna possuia uma moeda própria, o saracura, e um banco comunitário, o Banco Comunitário de Saracuruna. O projeto é apoiado por instituições financeiras internacionais, tais como o Banco Europeu de Investimento e a Comissão Europeia, bem como o Banco Europeu para a Reconstrução e o Desenvolvimento. O braço europeu de banco de investimento do Citigroup foi negociado como Schroder Salomon Smith Barney de 2000 a 2003. No dia seguinte, o banco britânico Barclays anunciou o seu acordo para a aquisição, sujeita à aprovação regulamentar, do banco de investimento norte-americano e divisões juntamente com o seu edifício sede de Nova Iorque. Depois que ela criou o primeiro banco comunitário, em Port Harcourt, chamado Akpo Banco Comunitário. Banco comunitário\\n\\nBanco comunitário é uma instituição depositária, normalmente desenvolvida e operada de forma local. O Banco Europeu de Investimento (com 59,15% do capital) é o accionista maioritário do FEI, juntamente com o qual forma o chamado \"Grupo BEI\". O Banco Europeu de Investimento («BEI») está a considerar o co-financiamento, juntamente com o BERD, até um montante igual. Ele já serviu como consultor ao Banco Mundial, ao Banco Asiático de Desenvolvimento, ao Banco Europeu de Investimento, também a Oxfam e várias agências das Nações Unidas. Banco Nacional de Investimento\\n\\nO Banco Nacional de Investimento (abreviado: BNI ) é um banco de desenvolvimento estatal moçambicano. Banco de Investimento Global\\n\\nBanco de Investimento Global (BiG) é um banco privado português. Banco Opportunity\\n\\nO Banco Opportunity (posteriormente Banco Opportunity de Investimento S.A.) foi um banco brasileiro sediado no estado do Rio de Janeiro. A cidade também sedia o Banco Palmas, primeiro banco comunitário do Brasil, criado em 1998 no conjunto Palmeiras. A cidade também sedia o Banco Palmas, primeiro banco comunitário do Brasil, criado em 1998 no conjunto Palmeiras. No ano seguinte, compra o Banco Meridional, por 266 milhões de reais, no leilão de privatização, se torna o maior banco de investimento brasileiro e é eleito, pela Euromoney, o melhor banco de investimento do país. São essas: a Comissão Europeia, que é o órgão que elabora, apresenta a proposta do orçamento e, após aprovação, põe em prática o orçamento; o Parlamento Europeu e o Conselho da União Europeia, que, conjuntamente, aprovam o orçamento proposto, tendo porém o Parlamento a última palavra sobre a sua aprovação; e o Tribunal de Contas, que tem como função o controlo da gestão do orçamento.'"
            ],
            "application/vnd.google.colaboratory.intrinsic+json": {
              "type": "string"
            }
          },
          "metadata": {},
          "execution_count": 21
        }
      ]
    },
    {
      "cell_type": "code",
      "source": [
        "val['question'][100]['stem']"
      ],
      "metadata": {
        "id": "aNm9o2VjJO8J",
        "colab": {
          "base_uri": "https://localhost:8080/",
          "height": 35
        },
        "outputId": "5e6a8ff1-a299-4335-dfca-e67879ca4e85"
      },
      "execution_count": 22,
      "outputs": [
        {
          "output_type": "execute_result",
          "data": {
            "text/plain": [
              "'No processo de aprovação do orçamento comunitário intervém o'"
            ],
            "application/vnd.google.colaboratory.intrinsic+json": {
              "type": "string"
            }
          },
          "metadata": {},
          "execution_count": 22
        }
      ]
    },
    {
      "cell_type": "code",
      "source": [
        "val['question'][100]['choices']['text'][0]"
      ],
      "metadata": {
        "id": "ryIuizILJUuG",
        "colab": {
          "base_uri": "https://localhost:8080/",
          "height": 35
        },
        "outputId": "e2ae9fbf-7d63-47a6-f274-ea20027a8b8b"
      },
      "execution_count": 23,
      "outputs": [
        {
          "output_type": "execute_result",
          "data": {
            "text/plain": [
              "'Banco Europeu de Investimento'"
            ],
            "application/vnd.google.colaboratory.intrinsic+json": {
              "type": "string"
            }
          },
          "metadata": {},
          "execution_count": 23
        }
      ]
    },
    {
      "cell_type": "code",
      "source": [
        "query_correct = [\"Tópico: {} Questão: {} Correto: Sim\".format(val['info'][100]['subject'], val['question'][100]['stem'])]\n",
        "query_wrong = [\"Tópico: {} Questão: {} Correto: Não\".format(val['info'][100]['subject'], val['question'][100]['stem'])]"
      ],
      "metadata": {
        "id": "6_SnbJAoExiF"
      },
      "execution_count": 24,
      "outputs": []
    },
    {
      "cell_type": "code",
      "source": [
        "inputs_correct = tokenizer(query_correct, return_tensors=\"pt\",padding=True,truncation=True).input_ids\n",
        "inputs_wrong = tokenizer(query_wrong, return_tensors=\"pt\",padding=True,truncation=True).input_ids"
      ],
      "metadata": {
        "id": "-LBbjVHxGNVN"
      },
      "execution_count": 25,
      "outputs": []
    },
    {
      "cell_type": "code",
      "source": [
        "outputs_correct = model_pt.generate(inputs_correct,max_new_tokens=max_target_length,num_beams=10,num_return_sequences=10)\n",
        "outputs_wrong = model_pt.generate(inputs_wrong,max_new_tokens=max_target_length,num_beams=10,num_return_sequences=10)"
      ],
      "metadata": {
        "id": "5bZR9EyIGNPs"
      },
      "execution_count": 26,
      "outputs": []
    },
    {
      "cell_type": "code",
      "source": [
        "alternativas_corretas = tokenizer.batch_decode(outputs_correct, skip_special_tokens=True)\n",
        "alternativas_erradas = tokenizer.batch_decode(outputs_wrong, skip_special_tokens=True)"
      ],
      "metadata": {
        "id": "W_8ERB7kGiww"
      },
      "execution_count": 27,
      "outputs": []
    },
    {
      "cell_type": "code",
      "source": [
        "for x in alternativas_corretas:\n",
        "  print(x)"
      ],
      "metadata": {
        "id": "aFDoyHFoGkqf",
        "colab": {
          "base_uri": "https://localhost:8080/"
        },
        "outputId": "24934a79-a0fc-4b42-867b-f80e80282e9a"
      },
      "execution_count": 28,
      "outputs": [
        {
          "output_type": "stream",
          "name": "stdout",
          "text": [
            "défice orçamental\n",
            "Conselho de Estado-membro da União Europeia\n",
            "défice do Estado-membro da União Europeia\n",
            "Conselho de Estado-membro, que define a política fiscal do Estado-membro da União Europeia\n",
            "Conselhos de Estado-membros\n",
            "Conselho de Estado-membro, que define as prioridades económicas para o ano seguinte ao ano anterior ao ano anterior ao ano anterior ao ano anterior ao ano anterior\n",
            "Conselho de Estado-membro, que define o plano de ação a ser seguido pelo Conselho de Estado-membro da União Europeia\n",
            "Conselho de Estado-membros\n",
            "Conselho de Estado-membro, que define o plano de ação a ser seguido pelo Estado-membro da União Europeia\n",
            "Conselho de Estado-membro, que define as prioridades económicas para o ano seguinte à data da aprovação do orçamento\n"
          ]
        }
      ]
    },
    {
      "cell_type": "code",
      "source": [
        "for x in alternativas_erradas:\n",
        "  print(x)"
      ],
      "metadata": {
        "id": "rC793sINHAf6",
        "colab": {
          "base_uri": "https://localhost:8080/"
        },
        "outputId": "34bd77d5-1b9b-4df4-a117-d065cc814454"
      },
      "execution_count": 29,
      "outputs": [
        {
          "output_type": "stream",
          "name": "stdout",
          "text": [
            "défice orçamental\n",
            "Conselho de Estado-membro da União Europeia\n",
            "Tribunal de Contas do Estado-membro da União Europeia\n",
            "Tribunal de Contas da União Europeia\n",
            "Conselhos de Estado-membros\n",
            "Conselho de Estado-membro, que define a política fiscal do Estado-membro da União Europeia\n",
            "Conselho de Estado-membro, que faz parte do Conselho de Estado-membro da União Europeia\n",
            "Conselho de Estado-membro, que define as prioridades económicas para cada Estado-membro da União Europeia\n",
            "Conselho de Estado-membros\n",
            "Conselho de Estado-membro, que define o plano de ação a ser seguido pelo Conselho de Estado-membro da União Europeia\n"
          ]
        }
      ]
    }
  ],
  "metadata": {
    "kernelspec": {
      "display_name": "Python 3",
      "language": "python",
      "name": "python3"
    },
    "language_info": {
      "codemirror_mode": {
        "name": "ipython",
        "version": 3
      },
      "file_extension": ".py",
      "mimetype": "text/x-python",
      "name": "python",
      "nbconvert_exporter": "python",
      "pygments_lexer": "ipython3",
      "version": "3.9.7"
    },
    "orig_nbformat": 4,
    "colab": {
      "provenance": []
    },
    "accelerator": "GPU",
    "gpuClass": "standard",
    "widgets": {
      "application/vnd.jupyter.widget-state+json": {
        "2dfd2c9ff84d49c6807dfd921c56ea6d": {
          "model_module": "@jupyter-widgets/controls",
          "model_name": "HBoxModel",
          "model_module_version": "1.5.0",
          "state": {
            "_dom_classes": [],
            "_model_module": "@jupyter-widgets/controls",
            "_model_module_version": "1.5.0",
            "_model_name": "HBoxModel",
            "_view_count": null,
            "_view_module": "@jupyter-widgets/controls",
            "_view_module_version": "1.5.0",
            "_view_name": "HBoxView",
            "box_style": "",
            "children": [
              "IPY_MODEL_bb63dcad03d64dd68d74e22cb86a670e",
              "IPY_MODEL_416ef88b64944671958f002f37a3942e",
              "IPY_MODEL_0d2b3732621540fc829b5d05eddc93c5"
            ],
            "layout": "IPY_MODEL_8abb50ed42ed479f9feebea54f53cbaf"
          }
        },
        "bb63dcad03d64dd68d74e22cb86a670e": {
          "model_module": "@jupyter-widgets/controls",
          "model_name": "HTMLModel",
          "model_module_version": "1.5.0",
          "state": {
            "_dom_classes": [],
            "_model_module": "@jupyter-widgets/controls",
            "_model_module_version": "1.5.0",
            "_model_name": "HTMLModel",
            "_view_count": null,
            "_view_module": "@jupyter-widgets/controls",
            "_view_module_version": "1.5.0",
            "_view_name": "HTMLView",
            "description": "",
            "description_tooltip": null,
            "layout": "IPY_MODEL_35c87d80c0784ecc8b852245c60ab21d",
            "placeholder": "​",
            "style": "IPY_MODEL_c5aa23e37e134b4e821d20613f95fd46",
            "value": "100%"
          }
        },
        "416ef88b64944671958f002f37a3942e": {
          "model_module": "@jupyter-widgets/controls",
          "model_name": "FloatProgressModel",
          "model_module_version": "1.5.0",
          "state": {
            "_dom_classes": [],
            "_model_module": "@jupyter-widgets/controls",
            "_model_module_version": "1.5.0",
            "_model_name": "FloatProgressModel",
            "_view_count": null,
            "_view_module": "@jupyter-widgets/controls",
            "_view_module_version": "1.5.0",
            "_view_name": "ProgressView",
            "bar_style": "success",
            "description": "",
            "description_tooltip": null,
            "layout": "IPY_MODEL_4763737ef07d4807b46182f5108ad1be",
            "max": 2,
            "min": 0,
            "orientation": "horizontal",
            "style": "IPY_MODEL_cd9d792f21054342af8cbfe551904c99",
            "value": 2
          }
        },
        "0d2b3732621540fc829b5d05eddc93c5": {
          "model_module": "@jupyter-widgets/controls",
          "model_name": "HTMLModel",
          "model_module_version": "1.5.0",
          "state": {
            "_dom_classes": [],
            "_model_module": "@jupyter-widgets/controls",
            "_model_module_version": "1.5.0",
            "_model_name": "HTMLModel",
            "_view_count": null,
            "_view_module": "@jupyter-widgets/controls",
            "_view_module_version": "1.5.0",
            "_view_name": "HTMLView",
            "description": "",
            "description_tooltip": null,
            "layout": "IPY_MODEL_5e3d49dac7dd4e7fb704fe594e8f5a74",
            "placeholder": "​",
            "style": "IPY_MODEL_e5c434a8775548cdb6f355caff191513",
            "value": " 2/2 [00:00&lt;00:00, 59.85it/s]"
          }
        },
        "8abb50ed42ed479f9feebea54f53cbaf": {
          "model_module": "@jupyter-widgets/base",
          "model_name": "LayoutModel",
          "model_module_version": "1.2.0",
          "state": {
            "_model_module": "@jupyter-widgets/base",
            "_model_module_version": "1.2.0",
            "_model_name": "LayoutModel",
            "_view_count": null,
            "_view_module": "@jupyter-widgets/base",
            "_view_module_version": "1.2.0",
            "_view_name": "LayoutView",
            "align_content": null,
            "align_items": null,
            "align_self": null,
            "border": null,
            "bottom": null,
            "display": null,
            "flex": null,
            "flex_flow": null,
            "grid_area": null,
            "grid_auto_columns": null,
            "grid_auto_flow": null,
            "grid_auto_rows": null,
            "grid_column": null,
            "grid_gap": null,
            "grid_row": null,
            "grid_template_areas": null,
            "grid_template_columns": null,
            "grid_template_rows": null,
            "height": null,
            "justify_content": null,
            "justify_items": null,
            "left": null,
            "margin": null,
            "max_height": null,
            "max_width": null,
            "min_height": null,
            "min_width": null,
            "object_fit": null,
            "object_position": null,
            "order": null,
            "overflow": null,
            "overflow_x": null,
            "overflow_y": null,
            "padding": null,
            "right": null,
            "top": null,
            "visibility": null,
            "width": null
          }
        },
        "35c87d80c0784ecc8b852245c60ab21d": {
          "model_module": "@jupyter-widgets/base",
          "model_name": "LayoutModel",
          "model_module_version": "1.2.0",
          "state": {
            "_model_module": "@jupyter-widgets/base",
            "_model_module_version": "1.2.0",
            "_model_name": "LayoutModel",
            "_view_count": null,
            "_view_module": "@jupyter-widgets/base",
            "_view_module_version": "1.2.0",
            "_view_name": "LayoutView",
            "align_content": null,
            "align_items": null,
            "align_self": null,
            "border": null,
            "bottom": null,
            "display": null,
            "flex": null,
            "flex_flow": null,
            "grid_area": null,
            "grid_auto_columns": null,
            "grid_auto_flow": null,
            "grid_auto_rows": null,
            "grid_column": null,
            "grid_gap": null,
            "grid_row": null,
            "grid_template_areas": null,
            "grid_template_columns": null,
            "grid_template_rows": null,
            "height": null,
            "justify_content": null,
            "justify_items": null,
            "left": null,
            "margin": null,
            "max_height": null,
            "max_width": null,
            "min_height": null,
            "min_width": null,
            "object_fit": null,
            "object_position": null,
            "order": null,
            "overflow": null,
            "overflow_x": null,
            "overflow_y": null,
            "padding": null,
            "right": null,
            "top": null,
            "visibility": null,
            "width": null
          }
        },
        "c5aa23e37e134b4e821d20613f95fd46": {
          "model_module": "@jupyter-widgets/controls",
          "model_name": "DescriptionStyleModel",
          "model_module_version": "1.5.0",
          "state": {
            "_model_module": "@jupyter-widgets/controls",
            "_model_module_version": "1.5.0",
            "_model_name": "DescriptionStyleModel",
            "_view_count": null,
            "_view_module": "@jupyter-widgets/base",
            "_view_module_version": "1.2.0",
            "_view_name": "StyleView",
            "description_width": ""
          }
        },
        "4763737ef07d4807b46182f5108ad1be": {
          "model_module": "@jupyter-widgets/base",
          "model_name": "LayoutModel",
          "model_module_version": "1.2.0",
          "state": {
            "_model_module": "@jupyter-widgets/base",
            "_model_module_version": "1.2.0",
            "_model_name": "LayoutModel",
            "_view_count": null,
            "_view_module": "@jupyter-widgets/base",
            "_view_module_version": "1.2.0",
            "_view_name": "LayoutView",
            "align_content": null,
            "align_items": null,
            "align_self": null,
            "border": null,
            "bottom": null,
            "display": null,
            "flex": null,
            "flex_flow": null,
            "grid_area": null,
            "grid_auto_columns": null,
            "grid_auto_flow": null,
            "grid_auto_rows": null,
            "grid_column": null,
            "grid_gap": null,
            "grid_row": null,
            "grid_template_areas": null,
            "grid_template_columns": null,
            "grid_template_rows": null,
            "height": null,
            "justify_content": null,
            "justify_items": null,
            "left": null,
            "margin": null,
            "max_height": null,
            "max_width": null,
            "min_height": null,
            "min_width": null,
            "object_fit": null,
            "object_position": null,
            "order": null,
            "overflow": null,
            "overflow_x": null,
            "overflow_y": null,
            "padding": null,
            "right": null,
            "top": null,
            "visibility": null,
            "width": null
          }
        },
        "cd9d792f21054342af8cbfe551904c99": {
          "model_module": "@jupyter-widgets/controls",
          "model_name": "ProgressStyleModel",
          "model_module_version": "1.5.0",
          "state": {
            "_model_module": "@jupyter-widgets/controls",
            "_model_module_version": "1.5.0",
            "_model_name": "ProgressStyleModel",
            "_view_count": null,
            "_view_module": "@jupyter-widgets/base",
            "_view_module_version": "1.2.0",
            "_view_name": "StyleView",
            "bar_color": null,
            "description_width": ""
          }
        },
        "5e3d49dac7dd4e7fb704fe594e8f5a74": {
          "model_module": "@jupyter-widgets/base",
          "model_name": "LayoutModel",
          "model_module_version": "1.2.0",
          "state": {
            "_model_module": "@jupyter-widgets/base",
            "_model_module_version": "1.2.0",
            "_model_name": "LayoutModel",
            "_view_count": null,
            "_view_module": "@jupyter-widgets/base",
            "_view_module_version": "1.2.0",
            "_view_name": "LayoutView",
            "align_content": null,
            "align_items": null,
            "align_self": null,
            "border": null,
            "bottom": null,
            "display": null,
            "flex": null,
            "flex_flow": null,
            "grid_area": null,
            "grid_auto_columns": null,
            "grid_auto_flow": null,
            "grid_auto_rows": null,
            "grid_column": null,
            "grid_gap": null,
            "grid_row": null,
            "grid_template_areas": null,
            "grid_template_columns": null,
            "grid_template_rows": null,
            "height": null,
            "justify_content": null,
            "justify_items": null,
            "left": null,
            "margin": null,
            "max_height": null,
            "max_width": null,
            "min_height": null,
            "min_width": null,
            "object_fit": null,
            "object_position": null,
            "order": null,
            "overflow": null,
            "overflow_x": null,
            "overflow_y": null,
            "padding": null,
            "right": null,
            "top": null,
            "visibility": null,
            "width": null
          }
        },
        "e5c434a8775548cdb6f355caff191513": {
          "model_module": "@jupyter-widgets/controls",
          "model_name": "DescriptionStyleModel",
          "model_module_version": "1.5.0",
          "state": {
            "_model_module": "@jupyter-widgets/controls",
            "_model_module_version": "1.5.0",
            "_model_name": "DescriptionStyleModel",
            "_view_count": null,
            "_view_module": "@jupyter-widgets/base",
            "_view_module_version": "1.2.0",
            "_view_name": "StyleView",
            "description_width": ""
          }
        }
      }
    }
  },
  "nbformat": 4,
  "nbformat_minor": 0
}